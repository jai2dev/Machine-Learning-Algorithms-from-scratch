{
 "cells": [
  {
   "cell_type": "markdown",
   "metadata": {
    "papermill": {
     "duration": 0.017922,
     "end_time": "2021-01-28T07:57:42.049001",
     "exception": false,
     "start_time": "2021-01-28T07:57:42.031079",
     "status": "completed"
    },
    "tags": []
   },
   "source": [
    "#  FuzzyCMeans Implementation from scratch on Iris dataset"
   ]
  },
  {
   "cell_type": "code",
   "execution_count": 1,
   "metadata": {
    "_cell_guid": "b1076dfc-b9ad-4769-8c92-a6c4dae69d19",
    "_uuid": "8f2839f25d086af736a60e9eeb907d3b93b6e0e5",
    "execution": {
     "iopub.execute_input": "2021-01-28T07:57:42.086249Z",
     "iopub.status.busy": "2021-01-28T07:57:42.085502Z",
     "iopub.status.idle": "2021-01-28T07:57:43.564397Z",
     "shell.execute_reply": "2021-01-28T07:57:43.563660Z"
    },
    "papermill": {
     "duration": 1.501326,
     "end_time": "2021-01-28T07:57:43.564518",
     "exception": false,
     "start_time": "2021-01-28T07:57:42.063192",
     "status": "completed"
    },
    "tags": []
   },
   "outputs": [],
   "source": [
    "import numpy as np\n",
    "import pandas as pd\n",
    "import matplotlib.pyplot as plt\n",
    "import seaborn as sns\n",
    "import datetime\n",
    "import operator\n",
    "import math\n",
    "import random\n",
    "\n",
    "import numpy as np\n",
    "from scipy.linalg import norm\n",
    "from scipy.spatial.distance import cdist\n",
    "from collections import defaultdict\n",
    "\n",
    "\n",
    "from sklearn import datasets\n",
    "from sklearn.datasets import make_blobs\n",
    "\n",
    "# ignoring warnings\n",
    "import warnings\n",
    "warnings.simplefilter(\"ignore\")\n",
    "\n",
    "import os, cv2, json\n",
    "\n",
    "\n",
    "np.random.seed(42)"
   ]
  },
  {
   "cell_type": "markdown",
   "metadata": {
    "papermill": {
     "duration": 0.013904,
     "end_time": "2021-01-28T07:57:43.593450",
     "exception": false,
     "start_time": "2021-01-28T07:57:43.579546",
     "status": "completed"
    },
    "tags": []
   },
   "source": [
    "> # load the dataset"
   ]
  },
  {
   "cell_type": "code",
   "execution_count": 2,
   "metadata": {
    "execution": {
     "iopub.execute_input": "2021-01-28T07:57:43.631076Z",
     "iopub.status.busy": "2021-01-28T07:57:43.630354Z",
     "iopub.status.idle": "2021-01-28T07:57:43.639984Z",
     "shell.execute_reply": "2021-01-28T07:57:43.639344Z"
    },
    "papermill": {
     "duration": 0.032485,
     "end_time": "2021-01-28T07:57:43.640120",
     "exception": false,
     "start_time": "2021-01-28T07:57:43.607635",
     "status": "completed"
    },
    "tags": []
   },
   "outputs": [],
   "source": [
    "iris=datasets.load_iris()"
   ]
  },
  {
   "cell_type": "code",
   "execution_count": 3,
   "metadata": {
    "execution": {
     "iopub.execute_input": "2021-01-28T07:57:43.687186Z",
     "iopub.status.busy": "2021-01-28T07:57:43.680293Z",
     "iopub.status.idle": "2021-01-28T07:57:43.692614Z",
     "shell.execute_reply": "2021-01-28T07:57:43.692034Z"
    },
    "papermill": {
     "duration": 0.038051,
     "end_time": "2021-01-28T07:57:43.692748",
     "exception": false,
     "start_time": "2021-01-28T07:57:43.654697",
     "status": "completed"
    },
    "tags": []
   },
   "outputs": [
    {
     "data": {
      "text/plain": [
       "{'data': array([[5.1, 3.5, 1.4, 0.2],\n",
       "        [4.9, 3. , 1.4, 0.2],\n",
       "        [4.7, 3.2, 1.3, 0.2],\n",
       "        [4.6, 3.1, 1.5, 0.2],\n",
       "        [5. , 3.6, 1.4, 0.2],\n",
       "        [5.4, 3.9, 1.7, 0.4],\n",
       "        [4.6, 3.4, 1.4, 0.3],\n",
       "        [5. , 3.4, 1.5, 0.2],\n",
       "        [4.4, 2.9, 1.4, 0.2],\n",
       "        [4.9, 3.1, 1.5, 0.1],\n",
       "        [5.4, 3.7, 1.5, 0.2],\n",
       "        [4.8, 3.4, 1.6, 0.2],\n",
       "        [4.8, 3. , 1.4, 0.1],\n",
       "        [4.3, 3. , 1.1, 0.1],\n",
       "        [5.8, 4. , 1.2, 0.2],\n",
       "        [5.7, 4.4, 1.5, 0.4],\n",
       "        [5.4, 3.9, 1.3, 0.4],\n",
       "        [5.1, 3.5, 1.4, 0.3],\n",
       "        [5.7, 3.8, 1.7, 0.3],\n",
       "        [5.1, 3.8, 1.5, 0.3],\n",
       "        [5.4, 3.4, 1.7, 0.2],\n",
       "        [5.1, 3.7, 1.5, 0.4],\n",
       "        [4.6, 3.6, 1. , 0.2],\n",
       "        [5.1, 3.3, 1.7, 0.5],\n",
       "        [4.8, 3.4, 1.9, 0.2],\n",
       "        [5. , 3. , 1.6, 0.2],\n",
       "        [5. , 3.4, 1.6, 0.4],\n",
       "        [5.2, 3.5, 1.5, 0.2],\n",
       "        [5.2, 3.4, 1.4, 0.2],\n",
       "        [4.7, 3.2, 1.6, 0.2],\n",
       "        [4.8, 3.1, 1.6, 0.2],\n",
       "        [5.4, 3.4, 1.5, 0.4],\n",
       "        [5.2, 4.1, 1.5, 0.1],\n",
       "        [5.5, 4.2, 1.4, 0.2],\n",
       "        [4.9, 3.1, 1.5, 0.2],\n",
       "        [5. , 3.2, 1.2, 0.2],\n",
       "        [5.5, 3.5, 1.3, 0.2],\n",
       "        [4.9, 3.6, 1.4, 0.1],\n",
       "        [4.4, 3. , 1.3, 0.2],\n",
       "        [5.1, 3.4, 1.5, 0.2],\n",
       "        [5. , 3.5, 1.3, 0.3],\n",
       "        [4.5, 2.3, 1.3, 0.3],\n",
       "        [4.4, 3.2, 1.3, 0.2],\n",
       "        [5. , 3.5, 1.6, 0.6],\n",
       "        [5.1, 3.8, 1.9, 0.4],\n",
       "        [4.8, 3. , 1.4, 0.3],\n",
       "        [5.1, 3.8, 1.6, 0.2],\n",
       "        [4.6, 3.2, 1.4, 0.2],\n",
       "        [5.3, 3.7, 1.5, 0.2],\n",
       "        [5. , 3.3, 1.4, 0.2],\n",
       "        [7. , 3.2, 4.7, 1.4],\n",
       "        [6.4, 3.2, 4.5, 1.5],\n",
       "        [6.9, 3.1, 4.9, 1.5],\n",
       "        [5.5, 2.3, 4. , 1.3],\n",
       "        [6.5, 2.8, 4.6, 1.5],\n",
       "        [5.7, 2.8, 4.5, 1.3],\n",
       "        [6.3, 3.3, 4.7, 1.6],\n",
       "        [4.9, 2.4, 3.3, 1. ],\n",
       "        [6.6, 2.9, 4.6, 1.3],\n",
       "        [5.2, 2.7, 3.9, 1.4],\n",
       "        [5. , 2. , 3.5, 1. ],\n",
       "        [5.9, 3. , 4.2, 1.5],\n",
       "        [6. , 2.2, 4. , 1. ],\n",
       "        [6.1, 2.9, 4.7, 1.4],\n",
       "        [5.6, 2.9, 3.6, 1.3],\n",
       "        [6.7, 3.1, 4.4, 1.4],\n",
       "        [5.6, 3. , 4.5, 1.5],\n",
       "        [5.8, 2.7, 4.1, 1. ],\n",
       "        [6.2, 2.2, 4.5, 1.5],\n",
       "        [5.6, 2.5, 3.9, 1.1],\n",
       "        [5.9, 3.2, 4.8, 1.8],\n",
       "        [6.1, 2.8, 4. , 1.3],\n",
       "        [6.3, 2.5, 4.9, 1.5],\n",
       "        [6.1, 2.8, 4.7, 1.2],\n",
       "        [6.4, 2.9, 4.3, 1.3],\n",
       "        [6.6, 3. , 4.4, 1.4],\n",
       "        [6.8, 2.8, 4.8, 1.4],\n",
       "        [6.7, 3. , 5. , 1.7],\n",
       "        [6. , 2.9, 4.5, 1.5],\n",
       "        [5.7, 2.6, 3.5, 1. ],\n",
       "        [5.5, 2.4, 3.8, 1.1],\n",
       "        [5.5, 2.4, 3.7, 1. ],\n",
       "        [5.8, 2.7, 3.9, 1.2],\n",
       "        [6. , 2.7, 5.1, 1.6],\n",
       "        [5.4, 3. , 4.5, 1.5],\n",
       "        [6. , 3.4, 4.5, 1.6],\n",
       "        [6.7, 3.1, 4.7, 1.5],\n",
       "        [6.3, 2.3, 4.4, 1.3],\n",
       "        [5.6, 3. , 4.1, 1.3],\n",
       "        [5.5, 2.5, 4. , 1.3],\n",
       "        [5.5, 2.6, 4.4, 1.2],\n",
       "        [6.1, 3. , 4.6, 1.4],\n",
       "        [5.8, 2.6, 4. , 1.2],\n",
       "        [5. , 2.3, 3.3, 1. ],\n",
       "        [5.6, 2.7, 4.2, 1.3],\n",
       "        [5.7, 3. , 4.2, 1.2],\n",
       "        [5.7, 2.9, 4.2, 1.3],\n",
       "        [6.2, 2.9, 4.3, 1.3],\n",
       "        [5.1, 2.5, 3. , 1.1],\n",
       "        [5.7, 2.8, 4.1, 1.3],\n",
       "        [6.3, 3.3, 6. , 2.5],\n",
       "        [5.8, 2.7, 5.1, 1.9],\n",
       "        [7.1, 3. , 5.9, 2.1],\n",
       "        [6.3, 2.9, 5.6, 1.8],\n",
       "        [6.5, 3. , 5.8, 2.2],\n",
       "        [7.6, 3. , 6.6, 2.1],\n",
       "        [4.9, 2.5, 4.5, 1.7],\n",
       "        [7.3, 2.9, 6.3, 1.8],\n",
       "        [6.7, 2.5, 5.8, 1.8],\n",
       "        [7.2, 3.6, 6.1, 2.5],\n",
       "        [6.5, 3.2, 5.1, 2. ],\n",
       "        [6.4, 2.7, 5.3, 1.9],\n",
       "        [6.8, 3. , 5.5, 2.1],\n",
       "        [5.7, 2.5, 5. , 2. ],\n",
       "        [5.8, 2.8, 5.1, 2.4],\n",
       "        [6.4, 3.2, 5.3, 2.3],\n",
       "        [6.5, 3. , 5.5, 1.8],\n",
       "        [7.7, 3.8, 6.7, 2.2],\n",
       "        [7.7, 2.6, 6.9, 2.3],\n",
       "        [6. , 2.2, 5. , 1.5],\n",
       "        [6.9, 3.2, 5.7, 2.3],\n",
       "        [5.6, 2.8, 4.9, 2. ],\n",
       "        [7.7, 2.8, 6.7, 2. ],\n",
       "        [6.3, 2.7, 4.9, 1.8],\n",
       "        [6.7, 3.3, 5.7, 2.1],\n",
       "        [7.2, 3.2, 6. , 1.8],\n",
       "        [6.2, 2.8, 4.8, 1.8],\n",
       "        [6.1, 3. , 4.9, 1.8],\n",
       "        [6.4, 2.8, 5.6, 2.1],\n",
       "        [7.2, 3. , 5.8, 1.6],\n",
       "        [7.4, 2.8, 6.1, 1.9],\n",
       "        [7.9, 3.8, 6.4, 2. ],\n",
       "        [6.4, 2.8, 5.6, 2.2],\n",
       "        [6.3, 2.8, 5.1, 1.5],\n",
       "        [6.1, 2.6, 5.6, 1.4],\n",
       "        [7.7, 3. , 6.1, 2.3],\n",
       "        [6.3, 3.4, 5.6, 2.4],\n",
       "        [6.4, 3.1, 5.5, 1.8],\n",
       "        [6. , 3. , 4.8, 1.8],\n",
       "        [6.9, 3.1, 5.4, 2.1],\n",
       "        [6.7, 3.1, 5.6, 2.4],\n",
       "        [6.9, 3.1, 5.1, 2.3],\n",
       "        [5.8, 2.7, 5.1, 1.9],\n",
       "        [6.8, 3.2, 5.9, 2.3],\n",
       "        [6.7, 3.3, 5.7, 2.5],\n",
       "        [6.7, 3. , 5.2, 2.3],\n",
       "        [6.3, 2.5, 5. , 1.9],\n",
       "        [6.5, 3. , 5.2, 2. ],\n",
       "        [6.2, 3.4, 5.4, 2.3],\n",
       "        [5.9, 3. , 5.1, 1.8]]),\n",
       " 'target': array([0, 0, 0, 0, 0, 0, 0, 0, 0, 0, 0, 0, 0, 0, 0, 0, 0, 0, 0, 0, 0, 0,\n",
       "        0, 0, 0, 0, 0, 0, 0, 0, 0, 0, 0, 0, 0, 0, 0, 0, 0, 0, 0, 0, 0, 0,\n",
       "        0, 0, 0, 0, 0, 0, 1, 1, 1, 1, 1, 1, 1, 1, 1, 1, 1, 1, 1, 1, 1, 1,\n",
       "        1, 1, 1, 1, 1, 1, 1, 1, 1, 1, 1, 1, 1, 1, 1, 1, 1, 1, 1, 1, 1, 1,\n",
       "        1, 1, 1, 1, 1, 1, 1, 1, 1, 1, 1, 1, 2, 2, 2, 2, 2, 2, 2, 2, 2, 2,\n",
       "        2, 2, 2, 2, 2, 2, 2, 2, 2, 2, 2, 2, 2, 2, 2, 2, 2, 2, 2, 2, 2, 2,\n",
       "        2, 2, 2, 2, 2, 2, 2, 2, 2, 2, 2, 2, 2, 2, 2, 2, 2, 2]),\n",
       " 'frame': None,\n",
       " 'target_names': array(['setosa', 'versicolor', 'virginica'], dtype='<U10'),\n",
       " 'DESCR': '.. _iris_dataset:\\n\\nIris plants dataset\\n--------------------\\n\\n**Data Set Characteristics:**\\n\\n    :Number of Instances: 150 (50 in each of three classes)\\n    :Number of Attributes: 4 numeric, predictive attributes and the class\\n    :Attribute Information:\\n        - sepal length in cm\\n        - sepal width in cm\\n        - petal length in cm\\n        - petal width in cm\\n        - class:\\n                - Iris-Setosa\\n                - Iris-Versicolour\\n                - Iris-Virginica\\n                \\n    :Summary Statistics:\\n\\n    ============== ==== ==== ======= ===== ====================\\n                    Min  Max   Mean    SD   Class Correlation\\n    ============== ==== ==== ======= ===== ====================\\n    sepal length:   4.3  7.9   5.84   0.83    0.7826\\n    sepal width:    2.0  4.4   3.05   0.43   -0.4194\\n    petal length:   1.0  6.9   3.76   1.76    0.9490  (high!)\\n    petal width:    0.1  2.5   1.20   0.76    0.9565  (high!)\\n    ============== ==== ==== ======= ===== ====================\\n\\n    :Missing Attribute Values: None\\n    :Class Distribution: 33.3% for each of 3 classes.\\n    :Creator: R.A. Fisher\\n    :Donor: Michael Marshall (MARSHALL%PLU@io.arc.nasa.gov)\\n    :Date: July, 1988\\n\\nThe famous Iris database, first used by Sir R.A. Fisher. The dataset is taken\\nfrom Fisher\\'s paper. Note that it\\'s the same as in R, but not as in the UCI\\nMachine Learning Repository, which has two wrong data points.\\n\\nThis is perhaps the best known database to be found in the\\npattern recognition literature.  Fisher\\'s paper is a classic in the field and\\nis referenced frequently to this day.  (See Duda & Hart, for example.)  The\\ndata set contains 3 classes of 50 instances each, where each class refers to a\\ntype of iris plant.  One class is linearly separable from the other 2; the\\nlatter are NOT linearly separable from each other.\\n\\n.. topic:: References\\n\\n   - Fisher, R.A. \"The use of multiple measurements in taxonomic problems\"\\n     Annual Eugenics, 7, Part II, 179-188 (1936); also in \"Contributions to\\n     Mathematical Statistics\" (John Wiley, NY, 1950).\\n   - Duda, R.O., & Hart, P.E. (1973) Pattern Classification and Scene Analysis.\\n     (Q327.D83) John Wiley & Sons.  ISBN 0-471-22361-1.  See page 218.\\n   - Dasarathy, B.V. (1980) \"Nosing Around the Neighborhood: A New System\\n     Structure and Classification Rule for Recognition in Partially Exposed\\n     Environments\".  IEEE Transactions on Pattern Analysis and Machine\\n     Intelligence, Vol. PAMI-2, No. 1, 67-71.\\n   - Gates, G.W. (1972) \"The Reduced Nearest Neighbor Rule\".  IEEE Transactions\\n     on Information Theory, May 1972, 431-433.\\n   - See also: 1988 MLC Proceedings, 54-64.  Cheeseman et al\"s AUTOCLASS II\\n     conceptual clustering system finds 3 classes in the data.\\n   - Many, many more ...',\n",
       " 'feature_names': ['sepal length (cm)',\n",
       "  'sepal width (cm)',\n",
       "  'petal length (cm)',\n",
       "  'petal width (cm)'],\n",
       " 'filename': '/opt/conda/lib/python3.7/site-packages/sklearn/datasets/data/iris.csv'}"
      ]
     },
     "execution_count": 3,
     "metadata": {},
     "output_type": "execute_result"
    }
   ],
   "source": [
    "iris"
   ]
  },
  {
   "cell_type": "code",
   "execution_count": 4,
   "metadata": {
    "execution": {
     "iopub.execute_input": "2021-01-28T07:57:43.744964Z",
     "iopub.status.busy": "2021-01-28T07:57:43.734340Z",
     "iopub.status.idle": "2021-01-28T07:57:43.756268Z",
     "shell.execute_reply": "2021-01-28T07:57:43.755738Z"
    },
    "papermill": {
     "duration": 0.048191,
     "end_time": "2021-01-28T07:57:43.756389",
     "exception": false,
     "start_time": "2021-01-28T07:57:43.708198",
     "status": "completed"
    },
    "tags": []
   },
   "outputs": [
    {
     "data": {
      "text/html": [
       "<div>\n",
       "<style scoped>\n",
       "    .dataframe tbody tr th:only-of-type {\n",
       "        vertical-align: middle;\n",
       "    }\n",
       "\n",
       "    .dataframe tbody tr th {\n",
       "        vertical-align: top;\n",
       "    }\n",
       "\n",
       "    .dataframe thead th {\n",
       "        text-align: right;\n",
       "    }\n",
       "</style>\n",
       "<table border=\"1\" class=\"dataframe\">\n",
       "  <thead>\n",
       "    <tr style=\"text-align: right;\">\n",
       "      <th></th>\n",
       "      <th>Sepal Length</th>\n",
       "      <th>Sepal Width</th>\n",
       "      <th>Petal Length</th>\n",
       "      <th>Petal Width</th>\n",
       "    </tr>\n",
       "  </thead>\n",
       "  <tbody>\n",
       "    <tr>\n",
       "      <th>0</th>\n",
       "      <td>5.1</td>\n",
       "      <td>3.5</td>\n",
       "      <td>1.4</td>\n",
       "      <td>0.2</td>\n",
       "    </tr>\n",
       "    <tr>\n",
       "      <th>1</th>\n",
       "      <td>4.9</td>\n",
       "      <td>3.0</td>\n",
       "      <td>1.4</td>\n",
       "      <td>0.2</td>\n",
       "    </tr>\n",
       "    <tr>\n",
       "      <th>2</th>\n",
       "      <td>4.7</td>\n",
       "      <td>3.2</td>\n",
       "      <td>1.3</td>\n",
       "      <td>0.2</td>\n",
       "    </tr>\n",
       "    <tr>\n",
       "      <th>3</th>\n",
       "      <td>4.6</td>\n",
       "      <td>3.1</td>\n",
       "      <td>1.5</td>\n",
       "      <td>0.2</td>\n",
       "    </tr>\n",
       "    <tr>\n",
       "      <th>4</th>\n",
       "      <td>5.0</td>\n",
       "      <td>3.6</td>\n",
       "      <td>1.4</td>\n",
       "      <td>0.2</td>\n",
       "    </tr>\n",
       "    <tr>\n",
       "      <th>...</th>\n",
       "      <td>...</td>\n",
       "      <td>...</td>\n",
       "      <td>...</td>\n",
       "      <td>...</td>\n",
       "    </tr>\n",
       "    <tr>\n",
       "      <th>145</th>\n",
       "      <td>6.7</td>\n",
       "      <td>3.0</td>\n",
       "      <td>5.2</td>\n",
       "      <td>2.3</td>\n",
       "    </tr>\n",
       "    <tr>\n",
       "      <th>146</th>\n",
       "      <td>6.3</td>\n",
       "      <td>2.5</td>\n",
       "      <td>5.0</td>\n",
       "      <td>1.9</td>\n",
       "    </tr>\n",
       "    <tr>\n",
       "      <th>147</th>\n",
       "      <td>6.5</td>\n",
       "      <td>3.0</td>\n",
       "      <td>5.2</td>\n",
       "      <td>2.0</td>\n",
       "    </tr>\n",
       "    <tr>\n",
       "      <th>148</th>\n",
       "      <td>6.2</td>\n",
       "      <td>3.4</td>\n",
       "      <td>5.4</td>\n",
       "      <td>2.3</td>\n",
       "    </tr>\n",
       "    <tr>\n",
       "      <th>149</th>\n",
       "      <td>5.9</td>\n",
       "      <td>3.0</td>\n",
       "      <td>5.1</td>\n",
       "      <td>1.8</td>\n",
       "    </tr>\n",
       "  </tbody>\n",
       "</table>\n",
       "<p>150 rows × 4 columns</p>\n",
       "</div>"
      ],
      "text/plain": [
       "     Sepal Length  Sepal Width  Petal Length  Petal Width\n",
       "0             5.1          3.5           1.4          0.2\n",
       "1             4.9          3.0           1.4          0.2\n",
       "2             4.7          3.2           1.3          0.2\n",
       "3             4.6          3.1           1.5          0.2\n",
       "4             5.0          3.6           1.4          0.2\n",
       "..            ...          ...           ...          ...\n",
       "145           6.7          3.0           5.2          2.3\n",
       "146           6.3          2.5           5.0          1.9\n",
       "147           6.5          3.0           5.2          2.0\n",
       "148           6.2          3.4           5.4          2.3\n",
       "149           5.9          3.0           5.1          1.8\n",
       "\n",
       "[150 rows x 4 columns]"
      ]
     },
     "execution_count": 4,
     "metadata": {},
     "output_type": "execute_result"
    }
   ],
   "source": [
    "X=pd.DataFrame(iris.data,columns=['Sepal Length', 'Sepal Width', 'Petal Length', 'Petal Width'])\n",
    "y=pd.DataFrame(iris.target,columns=['Classes'])\n",
    "\n",
    "X"
   ]
  },
  {
   "cell_type": "code",
   "execution_count": 5,
   "metadata": {
    "execution": {
     "iopub.execute_input": "2021-01-28T07:57:43.791554Z",
     "iopub.status.busy": "2021-01-28T07:57:43.790845Z",
     "iopub.status.idle": "2021-01-28T07:57:43.796221Z",
     "shell.execute_reply": "2021-01-28T07:57:43.795554Z"
    },
    "papermill": {
     "duration": 0.023934,
     "end_time": "2021-01-28T07:57:43.796345",
     "exception": false,
     "start_time": "2021-01-28T07:57:43.772411",
     "status": "completed"
    },
    "tags": []
   },
   "outputs": [],
   "source": [
    "X=X.values"
   ]
  },
  {
   "cell_type": "code",
   "execution_count": 6,
   "metadata": {
    "execution": {
     "iopub.execute_input": "2021-01-28T07:57:43.832832Z",
     "iopub.status.busy": "2021-01-28T07:57:43.831814Z",
     "iopub.status.idle": "2021-01-28T07:57:43.836147Z",
     "shell.execute_reply": "2021-01-28T07:57:43.836640Z"
    },
    "papermill": {
     "duration": 0.02448,
     "end_time": "2021-01-28T07:57:43.836831",
     "exception": false,
     "start_time": "2021-01-28T07:57:43.812351",
     "status": "completed"
    },
    "tags": []
   },
   "outputs": [],
   "source": [
    "y=y.values"
   ]
  },
  {
   "cell_type": "code",
   "execution_count": 7,
   "metadata": {
    "execution": {
     "iopub.execute_input": "2021-01-28T07:57:43.873286Z",
     "iopub.status.busy": "2021-01-28T07:57:43.872263Z",
     "iopub.status.idle": "2021-01-28T07:57:43.876414Z",
     "shell.execute_reply": "2021-01-28T07:57:43.876996Z"
    },
    "papermill": {
     "duration": 0.024142,
     "end_time": "2021-01-28T07:57:43.877144",
     "exception": false,
     "start_time": "2021-01-28T07:57:43.853002",
     "status": "completed"
    },
    "tags": []
   },
   "outputs": [],
   "source": [
    "data=X"
   ]
  },
  {
   "cell_type": "code",
   "execution_count": 8,
   "metadata": {
    "execution": {
     "iopub.execute_input": "2021-01-28T07:57:43.914490Z",
     "iopub.status.busy": "2021-01-28T07:57:43.913449Z",
     "iopub.status.idle": "2021-01-28T07:57:43.920990Z",
     "shell.execute_reply": "2021-01-28T07:57:43.921545Z"
    },
    "papermill": {
     "duration": 0.02801,
     "end_time": "2021-01-28T07:57:43.921714",
     "exception": false,
     "start_time": "2021-01-28T07:57:43.893704",
     "status": "completed"
    },
    "tags": []
   },
   "outputs": [
    {
     "data": {
      "text/plain": [
       "array([[0],\n",
       "       [0],\n",
       "       [0],\n",
       "       [0],\n",
       "       [0],\n",
       "       [0],\n",
       "       [0],\n",
       "       [0],\n",
       "       [0],\n",
       "       [0],\n",
       "       [0],\n",
       "       [0],\n",
       "       [0],\n",
       "       [0],\n",
       "       [0],\n",
       "       [0],\n",
       "       [0],\n",
       "       [0],\n",
       "       [0],\n",
       "       [0],\n",
       "       [0],\n",
       "       [0],\n",
       "       [0],\n",
       "       [0],\n",
       "       [0],\n",
       "       [0],\n",
       "       [0],\n",
       "       [0],\n",
       "       [0],\n",
       "       [0],\n",
       "       [0],\n",
       "       [0],\n",
       "       [0],\n",
       "       [0],\n",
       "       [0],\n",
       "       [0],\n",
       "       [0],\n",
       "       [0],\n",
       "       [0],\n",
       "       [0],\n",
       "       [0],\n",
       "       [0],\n",
       "       [0],\n",
       "       [0],\n",
       "       [0],\n",
       "       [0],\n",
       "       [0],\n",
       "       [0],\n",
       "       [0],\n",
       "       [0],\n",
       "       [1],\n",
       "       [1],\n",
       "       [1],\n",
       "       [1],\n",
       "       [1],\n",
       "       [1],\n",
       "       [1],\n",
       "       [1],\n",
       "       [1],\n",
       "       [1],\n",
       "       [1],\n",
       "       [1],\n",
       "       [1],\n",
       "       [1],\n",
       "       [1],\n",
       "       [1],\n",
       "       [1],\n",
       "       [1],\n",
       "       [1],\n",
       "       [1],\n",
       "       [1],\n",
       "       [1],\n",
       "       [1],\n",
       "       [1],\n",
       "       [1],\n",
       "       [1],\n",
       "       [1],\n",
       "       [1],\n",
       "       [1],\n",
       "       [1],\n",
       "       [1],\n",
       "       [1],\n",
       "       [1],\n",
       "       [1],\n",
       "       [1],\n",
       "       [1],\n",
       "       [1],\n",
       "       [1],\n",
       "       [1],\n",
       "       [1],\n",
       "       [1],\n",
       "       [1],\n",
       "       [1],\n",
       "       [1],\n",
       "       [1],\n",
       "       [1],\n",
       "       [1],\n",
       "       [1],\n",
       "       [1],\n",
       "       [1],\n",
       "       [2],\n",
       "       [2],\n",
       "       [2],\n",
       "       [2],\n",
       "       [2],\n",
       "       [2],\n",
       "       [2],\n",
       "       [2],\n",
       "       [2],\n",
       "       [2],\n",
       "       [2],\n",
       "       [2],\n",
       "       [2],\n",
       "       [2],\n",
       "       [2],\n",
       "       [2],\n",
       "       [2],\n",
       "       [2],\n",
       "       [2],\n",
       "       [2],\n",
       "       [2],\n",
       "       [2],\n",
       "       [2],\n",
       "       [2],\n",
       "       [2],\n",
       "       [2],\n",
       "       [2],\n",
       "       [2],\n",
       "       [2],\n",
       "       [2],\n",
       "       [2],\n",
       "       [2],\n",
       "       [2],\n",
       "       [2],\n",
       "       [2],\n",
       "       [2],\n",
       "       [2],\n",
       "       [2],\n",
       "       [2],\n",
       "       [2],\n",
       "       [2],\n",
       "       [2],\n",
       "       [2],\n",
       "       [2],\n",
       "       [2],\n",
       "       [2],\n",
       "       [2],\n",
       "       [2],\n",
       "       [2],\n",
       "       [2]])"
      ]
     },
     "execution_count": 8,
     "metadata": {},
     "output_type": "execute_result"
    }
   ],
   "source": [
    "y"
   ]
  },
  {
   "cell_type": "markdown",
   "metadata": {
    "papermill": {
     "duration": 0.016584,
     "end_time": "2021-01-28T07:57:43.955334",
     "exception": false,
     "start_time": "2021-01-28T07:57:43.938750",
     "status": "completed"
    },
    "tags": []
   },
   "source": [
    "# Function to calculate euclidean distance"
   ]
  },
  {
   "cell_type": "code",
   "execution_count": 9,
   "metadata": {
    "execution": {
     "iopub.execute_input": "2021-01-28T07:57:43.992559Z",
     "iopub.status.busy": "2021-01-28T07:57:43.991915Z",
     "iopub.status.idle": "2021-01-28T07:57:43.996765Z",
     "shell.execute_reply": "2021-01-28T07:57:43.997276Z"
    },
    "papermill": {
     "duration": 0.025134,
     "end_time": "2021-01-28T07:57:43.997430",
     "exception": false,
     "start_time": "2021-01-28T07:57:43.972296",
     "status": "completed"
    },
    "tags": []
   },
   "outputs": [],
   "source": [
    "def euclidean_distance(point1,point2):\n",
    "    dis=0\n",
    "    for i in range(len(point1)):\n",
    "        dis+=(point1[i]-point2[i])**2\n",
    "    return dis**0.5\n"
   ]
  },
  {
   "cell_type": "markdown",
   "metadata": {
    "papermill": {
     "duration": 0.016933,
     "end_time": "2021-01-28T07:57:44.031707",
     "exception": false,
     "start_time": "2021-01-28T07:57:44.014774",
     "status": "completed"
    },
    "tags": []
   },
   "source": [
    "# FuzzyCMeans Implementation"
   ]
  },
  {
   "cell_type": "code",
   "execution_count": 10,
   "metadata": {
    "execution": {
     "iopub.execute_input": "2021-01-28T07:57:44.069760Z",
     "iopub.status.busy": "2021-01-28T07:57:44.069033Z",
     "iopub.status.idle": "2021-01-28T07:57:44.074437Z",
     "shell.execute_reply": "2021-01-28T07:57:44.073774Z"
    },
    "papermill": {
     "duration": 0.025688,
     "end_time": "2021-01-28T07:57:44.074551",
     "exception": false,
     "start_time": "2021-01-28T07:57:44.048863",
     "status": "completed"
    },
    "tags": []
   },
   "outputs": [],
   "source": [
    "# utility values\n",
    "m=2\n",
    "n=len(data)\n",
    "c=3\n",
    "p=len(data[0])\n",
    "max_iter=100"
   ]
  },
  {
   "cell_type": "code",
   "execution_count": 11,
   "metadata": {
    "execution": {
     "iopub.execute_input": "2021-01-28T07:57:44.134805Z",
     "iopub.status.busy": "2021-01-28T07:57:44.133790Z",
     "iopub.status.idle": "2021-01-28T07:57:44.136507Z",
     "shell.execute_reply": "2021-01-28T07:57:44.135977Z"
    },
    "papermill": {
     "duration": 0.044792,
     "end_time": "2021-01-28T07:57:44.136638",
     "exception": false,
     "start_time": "2021-01-28T07:57:44.091846",
     "status": "completed"
    },
    "tags": []
   },
   "outputs": [],
   "source": [
    "def initialize_membership_matrix(n,c):\n",
    "    member_mat=list()\n",
    "    for i in range(n):\n",
    "        random_list=[random.random() for x in range(c)]\n",
    "        summation=sum(random_list)\n",
    "        for i in range(len(random_list)):\n",
    "            random_list[i]=random_list[i]/summation\n",
    "        member_mat.append(random_list)\n",
    "    return member_mat\n",
    "\n",
    "def update_centroid(member_mat):\n",
    "    centroids={}\n",
    "\n",
    "    for j in range(c):\n",
    "        temp=[]\n",
    "        for k in range(p):\n",
    "            \n",
    "            add=0\n",
    "            for i in range(n):\n",
    "                add+=member_mat[i][j]**m\n",
    "            x=0\n",
    "            for i in range(n):\n",
    "                x+=(member_mat[i][j]**m)*(data[i][k])\n",
    "            val=x/add\n",
    "            temp.append(val)\n",
    "        centroids[j]=temp\n",
    "    return centroids\n",
    "\n",
    "\n",
    "def update_membership_matrix(member_mat,centroids):\n",
    "    ratio=float(2/(m-1))\n",
    "\n",
    "    for i in range(n):\n",
    "        distances=list()\n",
    "        for j in range(c):\n",
    "            distances.append(euclidean_distance(data[i],centroids[j]))\n",
    "        for j in range(c):\n",
    "            den = sum([math.pow(float(distances[j]/distances[q]), ratio) for q in range(c)])\n",
    "            member_mat[i][j] = float(1/den) \n",
    "           \n",
    "            \n",
    "    return member_mat\n",
    "        \n",
    "                \n",
    "    \n",
    "def find_cluster(member_mat):\n",
    "    clusters=list()\n",
    "    for i in range(n):\n",
    "        max_val, idx = max((val, idx) for (idx, val) in enumerate(member_mat[i]))\n",
    "        clusters.append(idx)\n",
    "    return clusters\n",
    "\n",
    "def check(old_member_mat,member_mat):\n",
    "    diff=0\n",
    "    for i in range(n):\n",
    "        for j in range(c):\n",
    "            diff+=old_member_mat[i][j]-member_mat[i][j]\n",
    "    if(diff<0.01):\n",
    "        return True\n",
    "    return False\n",
    "\n",
    "def fuzzy_c_mean():\n",
    "    \n",
    "    member_mat=initialize_membership_matrix(n,c)\n",
    "    for i in range(max_iter):\n",
    "        centroids=update_centroid(member_mat)\n",
    "        old_member_mat=member_mat\n",
    "        member_mat=update_membership_matrix(member_mat,centroids)\n",
    "        cluster=find_cluster(member_mat)\n",
    "        if(check(old_member_mat,member_mat))<0.01:\n",
    "            print(i)\n",
    "            break\n",
    "    \n",
    "   \n",
    "    \n",
    "    return cluster,centroids\n"
   ]
  },
  {
   "cell_type": "markdown",
   "metadata": {
    "papermill": {
     "duration": 0.017015,
     "end_time": "2021-01-28T07:57:44.171063",
     "exception": false,
     "start_time": "2021-01-28T07:57:44.154048",
     "status": "completed"
    },
    "tags": []
   },
   "source": [
    "# prediction"
   ]
  },
  {
   "cell_type": "code",
   "execution_count": 12,
   "metadata": {
    "execution": {
     "iopub.execute_input": "2021-01-28T07:57:44.230398Z",
     "iopub.status.busy": "2021-01-28T07:57:44.224950Z",
     "iopub.status.idle": "2021-01-28T07:57:45.101095Z",
     "shell.execute_reply": "2021-01-28T07:57:45.099850Z"
    },
    "papermill": {
     "duration": 0.912869,
     "end_time": "2021-01-28T07:57:45.101284",
     "exception": false,
     "start_time": "2021-01-28T07:57:44.188415",
     "status": "completed"
    },
    "tags": []
   },
   "outputs": [
    {
     "name": "stdout",
     "output_type": "stream",
     "text": [
      "Final Centroid points are:\n",
      "{0: [5.888932360609776, 2.7610693632044407, 4.3639516431330385, 1.3973150407078865], 1: [5.00396596061125, 3.4140888587783076, 1.482815532605614, 0.2535463174787418], 2: [6.7750112237526245, 3.0523822710435544, 5.6467817819186585, 2.053546658540863]}\n"
     ]
    }
   ],
   "source": [
    "clusters,centroids=fuzzy_c_mean()\n",
    "print(\"Final Centroid points are:\")\n",
    "print(centroids)\n",
    "\n",
    "\n",
    "# labeling the clusters\n",
    "def label_clusters(clusters):\n",
    "    z=0\n",
    "    o=0\n",
    "    t=0\n",
    "    dict=defaultdict(int)\n",
    "\n",
    "\n",
    "    for i in range(50):\n",
    "        if(clusters[i]==0):\n",
    "            z=z+1\n",
    "        elif(clusters[i]==1):\n",
    "            o=o+1\n",
    "        else:\n",
    "            t=t+1\n",
    "    dict[z]=0\n",
    "    dict[o]=1\n",
    "    dict[t]=2\n",
    "    classes=[]\n",
    "    fin1=max(z,max(o,t))\n",
    "    \n",
    "    classes.append(dict[fin1])\n",
    "    z=0\n",
    "    o=0\n",
    "    t=0\n",
    "    for i in range(50,100):\n",
    "        if(clusters[i]==0):\n",
    "            z=z+1\n",
    "        elif(clusters[i]==1):\n",
    "            o=o+1\n",
    "        else:\n",
    "            t=t+1\n",
    "    dict[z]=0\n",
    "    dict[o]=1\n",
    "    dict[t]=2\n",
    "\n",
    "    fin1=max(z,max(o,t))\n",
    "    \n",
    "    classes.append(dict[fin1])\n",
    "    z=0\n",
    "    o=0\n",
    "    t=0\n",
    "    for i in range(100,150):\n",
    "        if(clusters[i]==0):\n",
    "            z=z+1\n",
    "        elif(clusters[i]==1):\n",
    "            o=o+1\n",
    "        else:\n",
    "            t=t+1\n",
    "    dict[z]=0\n",
    "    dict[o]=1\n",
    "    dict[t]=2\n",
    "    fin1=max(z,max(o,t))\n",
    "   \n",
    "    classes.append(dict[fin1])\n",
    "    \n",
    "    return classes\n",
    "\n",
    "classes=label_clusters(clusters)"
   ]
  },
  {
   "cell_type": "markdown",
   "metadata": {
    "papermill": {
     "duration": 0.017547,
     "end_time": "2021-01-28T07:57:45.138646",
     "exception": false,
     "start_time": "2021-01-28T07:57:45.121099",
     "status": "completed"
    },
    "tags": []
   },
   "source": [
    "# confusion matrix"
   ]
  },
  {
   "cell_type": "code",
   "execution_count": 13,
   "metadata": {
    "execution": {
     "iopub.execute_input": "2021-01-28T07:57:45.186923Z",
     "iopub.status.busy": "2021-01-28T07:57:45.186169Z",
     "iopub.status.idle": "2021-01-28T07:57:45.192957Z",
     "shell.execute_reply": "2021-01-28T07:57:45.193518Z"
    },
    "papermill": {
     "duration": 0.036977,
     "end_time": "2021-01-28T07:57:45.193690",
     "exception": false,
     "start_time": "2021-01-28T07:57:45.156713",
     "status": "completed"
    },
    "tags": []
   },
   "outputs": [],
   "source": [
    "\n",
    "\n",
    "def confusion_matrix(clusters,classes,labels):\n",
    "    c_matrix=[[0 for i in range(labels)] for j in range(labels)]\n",
    "    m=0\n",
    "    n=0\n",
    "    q=0\n",
    "    for i in range(50):\n",
    "\n",
    "        if clusters[i]==classes[0]:\n",
    "            m=m+1\n",
    "        elif clusters[i]==classes[1]:\n",
    "            n=n+1\n",
    "        else:\n",
    "            q=q+1\n",
    "    c_matrix[0][0]=m\n",
    "    c_matrix[0][1]=n\n",
    "    c_matrix[0][2]=q\n",
    "    m=0\n",
    "    n=0\n",
    "    q=0\n",
    "    for i in range(50,100):\n",
    "        if clusters[i]==classes[0]:\n",
    "            m=m+1\n",
    "        elif clusters[i]==classes[1]:\n",
    "            n=n+1\n",
    "        else:\n",
    "            q=q+1\n",
    "    c_matrix[1][0]=m\n",
    "    c_matrix[1][1]=n\n",
    "    c_matrix[1][2]=q\n",
    "    m=0\n",
    "    n=0\n",
    "    q=0\n",
    "\n",
    "    for i in range(100,150):\n",
    "        if clusters[i]==classes[0]:\n",
    "            m=m+1\n",
    "        elif clusters[i]==classes[1]:\n",
    "            n=n+1\n",
    "        else:\n",
    "            q=q+1\n",
    "    c_matrix[2][0]=m\n",
    "    c_matrix[2][1]=n\n",
    "    c_matrix[2][2]=q\n",
    "    \n",
    "    \n",
    "    return c_matrix\n",
    "    "
   ]
  },
  {
   "cell_type": "markdown",
   "metadata": {
    "papermill": {
     "duration": 0.01789,
     "end_time": "2021-01-28T07:57:45.229856",
     "exception": false,
     "start_time": "2021-01-28T07:57:45.211966",
     "status": "completed"
    },
    "tags": []
   },
   "source": [
    "# Performance metrics"
   ]
  },
  {
   "cell_type": "code",
   "execution_count": 14,
   "metadata": {
    "execution": {
     "iopub.execute_input": "2021-01-28T07:57:45.269743Z",
     "iopub.status.busy": "2021-01-28T07:57:45.269061Z",
     "iopub.status.idle": "2021-01-28T07:57:45.278954Z",
     "shell.execute_reply": "2021-01-28T07:57:45.279508Z"
    },
    "papermill": {
     "duration": 0.031564,
     "end_time": "2021-01-28T07:57:45.279653",
     "exception": false,
     "start_time": "2021-01-28T07:57:45.248089",
     "status": "completed"
    },
    "tags": []
   },
   "outputs": [],
   "source": [
    "class Metrics:\n",
    "    \n",
    "    def __init__(self,confusion_m):\n",
    "        self.confusion_m=confusion_m\n",
    "        self.total=np.sum(confusion_m)\n",
    "        self.diagonal=np.sum(np.diag(confusion_m))\n",
    "    \n",
    "    def accuracy(self):\n",
    "        accuracy=(self.diagonal/self.total)\n",
    "        return accuracy\n",
    "    \n",
    "    def recall(self):\n",
    "        recall=np.diag(self.confusion_m)/np.sum(self.confusion_m,axis=1)\n",
    "        recall=np.mean(recall)\n",
    "        return recall\n",
    "    \n",
    "    def precision(self):\n",
    "        precision=np.diag(self.confusion_m)/np.sum(self.confusion_m,axis=0)\n",
    "        precision=np.mean(precision)\n",
    "        \n",
    "        return precision\n",
    "    \n",
    "    def f1_score(self,precision,recall):\n",
    "        f1_score=(2*precision*recall)/(precision+recall)\n",
    "        \n",
    "        return f1_score\n"
   ]
  },
  {
   "cell_type": "markdown",
   "metadata": {
    "papermill": {
     "duration": 0.01788,
     "end_time": "2021-01-28T07:57:45.315732",
     "exception": false,
     "start_time": "2021-01-28T07:57:45.297852",
     "status": "completed"
    },
    "tags": []
   },
   "source": [
    "# performance"
   ]
  },
  {
   "cell_type": "code",
   "execution_count": 15,
   "metadata": {
    "execution": {
     "iopub.execute_input": "2021-01-28T07:57:45.355754Z",
     "iopub.status.busy": "2021-01-28T07:57:45.355101Z",
     "iopub.status.idle": "2021-01-28T07:57:45.368041Z",
     "shell.execute_reply": "2021-01-28T07:57:45.367437Z"
    },
    "papermill": {
     "duration": 0.034323,
     "end_time": "2021-01-28T07:57:45.368166",
     "exception": false,
     "start_time": "2021-01-28T07:57:45.333843",
     "status": "completed"
    },
    "tags": []
   },
   "outputs": [
    {
     "name": "stdout",
     "output_type": "stream",
     "text": [
      "confusion matrix is:\n",
      "[[50  0  0]\n",
      " [ 0 47  3]\n",
      " [ 0 13 37]]\n",
      "Accuracy of the model is 89.33333333333333\n",
      "Recall of the model is 89.33333333333331\n",
      "Precision of the model is 90.27777777777777\n",
      "F1-Score of the model is 89.80307248169913\n"
     ]
    }
   ],
   "source": [
    "matrix=confusion_matrix(clusters,classes,3)\n",
    "performance=Metrics(matrix)\n",
    "\n",
    "accuracy=performance.accuracy()\n",
    "recall=performance.recall()\n",
    "precision=performance.precision()\n",
    "f1_score=performance.f1_score(precision,recall)\n",
    "\n",
    "print('confusion matrix is:',end='\\n')\n",
    "print(np.array(matrix),end='\\n')\n",
    "\n",
    "print(\"Accuracy of the model is {}\".format(accuracy*100))\n",
    "print(\"Recall of the model is {}\".format(recall*100))\n",
    "print(\"Precision of the model is {}\".format(precision*100))\n",
    "print(\"F1-Score of the model is {}\".format(f1_score*100))"
   ]
  }
 ],
 "metadata": {
  "kernelspec": {
   "display_name": "Python 3",
   "language": "python",
   "name": "python3"
  },
  "language_info": {
   "codemirror_mode": {
    "name": "ipython",
    "version": 3
   },
   "file_extension": ".py",
   "mimetype": "text/x-python",
   "name": "python",
   "nbconvert_exporter": "python",
   "pygments_lexer": "ipython3",
   "version": "3.7.6"
  },
  "papermill": {
   "duration": 8.595111,
   "end_time": "2021-01-28T07:57:45.494661",
   "environment_variables": {},
   "exception": null,
   "input_path": "__notebook__.ipynb",
   "output_path": "__notebook__.ipynb",
   "parameters": {},
   "start_time": "2021-01-28T07:57:36.899550",
   "version": "2.1.0"
  }
 },
 "nbformat": 4,
 "nbformat_minor": 4
}
